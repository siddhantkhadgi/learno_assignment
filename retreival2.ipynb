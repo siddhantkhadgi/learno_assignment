{
 "cells": [
  {
   "cell_type": "code",
   "execution_count": 1,
   "metadata": {},
   "outputs": [],
   "source": [
    "import re\n",
    "from langchain.embeddings import HuggingFaceEmbeddings\n",
    "from langchain.vectorstores import Chroma"
   ]
  },
  {
   "cell_type": "code",
   "execution_count": 2,
   "metadata": {},
   "outputs": [
    {
     "name": "stderr",
     "output_type": "stream",
     "text": [
      "/tmp/ipykernel_34962/3409896792.py:1: LangChainDeprecationWarning: The class `HuggingFaceEmbeddings` was deprecated in LangChain 0.2.2 and will be removed in 1.0. An updated version of the class exists in the :class:`~langchain-huggingface package and should be used instead. To use it run `pip install -U :class:`~langchain-huggingface` and import as `from :class:`~langchain_huggingface import HuggingFaceEmbeddings``.\n",
      "  embeddings = HuggingFaceEmbeddings(model_name=\"sentence-transformers/all-MiniLM-L6-v2\")\n",
      "/home/siddhant/anaconda3/envs/learno_assignment/lib/python3.10/site-packages/tqdm/auto.py:21: TqdmWarning: IProgress not found. Please update jupyter and ipywidgets. See https://ipywidgets.readthedocs.io/en/stable/user_install.html\n",
      "  from .autonotebook import tqdm as notebook_tqdm\n",
      "/home/siddhant/anaconda3/envs/learno_assignment/lib/python3.10/site-packages/scipy/__init__.py:146: UserWarning: A NumPy version >=1.17.3 and <1.25.0 is required for this version of SciPy (detected version 1.26.4\n",
      "  warnings.warn(f\"A NumPy version >={np_minversion} and <{np_maxversion}\"\n"
     ]
    }
   ],
   "source": [
    "embeddings = HuggingFaceEmbeddings(model_name=\"sentence-transformers/all-MiniLM-L6-v2\")"
   ]
  },
  {
   "cell_type": "code",
   "execution_count": 13,
   "metadata": {},
   "outputs": [],
   "source": [
    "vector_store = Chroma(\n",
    "    persist_directory=\"embedding\",\n",
    "    collection_name=\"book_by_page\",\n",
    "    embedding_function=embeddings\n",
    ")"
   ]
  },
  {
   "cell_type": "code",
   "execution_count": 14,
   "metadata": {},
   "outputs": [],
   "source": [
    "# 3. Helper function to extract metadata filters from the query text\n",
    "def extract_filters(query):\n",
    "    filters = {}\n",
    "    # Extract a page number if present (e.g., \"page 15\")\n",
    "    page_match = re.search(r'page\\s*(\\d+)', query, re.IGNORECASE)\n",
    "    # Extract a chapter number if present (e.g., \"Chapter 2\")\n",
    "    chapter_match = re.search(r'chapter\\s*(\\d+)', query, re.IGNORECASE)\n",
    "    # Extract a chapter name if mentioned with a syntax like \"chapter name: Introduction\"\n",
    "    chapter_name_match = re.search(r'chapter\\s*name\\s*:\\s*([\\w\\s]+)', query, re.IGNORECASE)\n",
    "    \n",
    "    if page_match:\n",
    "        filters['page'] = int(page_match.group(1))\n",
    "    if chapter_match:\n",
    "        filters['chapter_number'] = int(chapter_match.group(1))\n",
    "    if chapter_name_match:\n",
    "        filters['chapter_name'] = chapter_name_match.group(1).strip()\n",
    "    \n",
    "    return filters"
   ]
  },
  {
   "cell_type": "code",
   "execution_count": 15,
   "metadata": {},
   "outputs": [],
   "source": [
    "user_query = \"Find content from Chapter 2 page 15 about background information.\""
   ]
  },
  {
   "cell_type": "code",
   "execution_count": 17,
   "metadata": {},
   "outputs": [],
   "source": [
    "filters = extract_filters(user_query)"
   ]
  },
  {
   "cell_type": "code",
   "execution_count": 18,
   "metadata": {},
   "outputs": [
    {
     "data": {
      "text/plain": [
       "{'page': 15, 'chapter_number': 2}"
      ]
     },
     "execution_count": 18,
     "metadata": {},
     "output_type": "execute_result"
    }
   ],
   "source": [
    "filters"
   ]
  },
  {
   "cell_type": "code",
   "execution_count": 24,
   "metadata": {},
   "outputs": [],
   "source": [
    "def build_chroma_filter(filters):\n",
    "    if not filters:\n",
    "        return None\n",
    "    if len(filters) == 1:\n",
    "        return filters\n",
    "    # Combine multiple filter conditions using \"$and\"\n",
    "    return {\"$and\": [{k: v} for k, v in filters.items()]}"
   ]
  },
  {
   "cell_type": "code",
   "execution_count": 25,
   "metadata": {},
   "outputs": [],
   "source": [
    "chroma_filter = build_chroma_filter(filters)\n"
   ]
  },
  {
   "cell_type": "code",
   "execution_count": 26,
   "metadata": {},
   "outputs": [
    {
     "data": {
      "text/plain": [
       "{'$and': [{'page': 15}, {'chapter_number': 2}]}"
      ]
     },
     "execution_count": 26,
     "metadata": {},
     "output_type": "execute_result"
    }
   ],
   "source": [
    "chroma_filter"
   ]
  },
  {
   "cell_type": "code",
   "execution_count": 28,
   "metadata": {},
   "outputs": [],
   "source": [
    "res = vector_store.similarity_search(query=user_query, k=10, filter=chroma_filter)"
   ]
  },
  {
   "cell_type": "code",
   "execution_count": 23,
   "metadata": {},
   "outputs": [
    {
     "data": {
      "text/plain": [
       "[Document(metadata={'chapter_name': 'a broad overview ', 'chapter_number': 2, 'image_paths': 'images/page_25_img_0.png', 'page': '25'}, page_content='CHAPTER 2: A BROAD OVERVIEW  /'),\n",
       " Document(metadata={'chapter_name': 'a broad overview ', 'chapter_number': 2, 'image_paths': 'images/page_29_img_0.png', 'page': '29'}, page_content='CHAPTER 2: A BROAD OVERVIEW  /'),\n",
       " Document(metadata={'chapter_name': 'a broad overview ', 'chapter_number': 2, 'image_paths': 'images/page_31_img_0.png', 'page': '31'}, page_content='CHAPTER 2: A BROAD OVERVIEW  /'),\n",
       " Document(metadata={'chapter_name': 'a broad overview ', 'chapter_number': 2, 'image_paths': 'images/page_33_img_0.png', 'page': '33'}, page_content='CHAPTER 2: A BROAD OVERVIEW  /'),\n",
       " Document(metadata={'chapter_name': 'a broad overview ', 'chapter_number': 2, 'image_paths': 'images/page_27_img_0.png', 'page': '27'}, page_content='CHAPTER 2: A BROAD OVERVIEW  /     \\n     \\n27'),\n",
       " Document(metadata={'chapter_name': 'a broad overview ', 'chapter_number': 2, 'image_paths': 'images/page_33_img_0.png', 'page': '33'}, page_content='have a pretty good understanding.   THINK & DO #5  Which of these tools did you notice in the tulsi tea story and the spherical geometry story? Read those stories again with a notebook and pencil, and make a note of the tools introduced in each story. Don’t read further till you have engaged with this task sufficiently.  If you have gone through the material so far at least twice and have come up with an answer, here are a few hints to help you think through what you have learnt in this chapter.  The tulsi tea story has a brief introduction to the role of observation in inquiry, and the spherical geometry story has an introduction to imagining and reflecting. Can you identify the parts that involve these concepts?  Both stories describe activities that involve defining. The tulsi tea story also takes a peek into classifying. Can you identify the parts that discuss these concepts?'),\n",
       " Document(metadata={'chapter_name': 'a broad overview ', 'chapter_number': 2, 'image_paths': 'images/page_24_img_0.png', 'page': '24'}, page_content='How do we inquire? By:  formulating questions to express what we do not know;  looking for, and finding answers; arriving at conclusions on the basis of our answers;  critically evaluating the conclusions; and  accepting the conclusions if there are good reasons to do so.  In Chapter 1, Section 3, we came across some of the tools of inquiry —observing, generalizing, classifying, defining, and reasoning. These tools, which we will pursue in Part 2 of this book, are useful across the boundaries of subjects and disciplines, from mathematics, to the physical, biological, and human sciences, to the humanities. Because they are relevant for all disciplines, we call them trans-disciplinary. As you work through the exposition and exercises in the book, keep an eye out for these tools, and pay attention to the way they lead you to knowledge.   Let us listen in on a conversation between Anu and Neel, who are trying to figure out how to answer the questions they come across or come up with, and'),\n",
       " Document(metadata={'chapter_name': 'a broad overview ', 'chapter_number': 2, 'image_paths': 'images/page_26_img_0.png', 'page': '26'}, page_content='/ FOUNDATIONS OF KNOWLEDGE AND INQUIRY ACROSS DISCIPLINES \\n \\n26 \\n  \\nTHINK & DO #2  Can you think of an experiment to look for an answer to Anu’s question?   Describe the design of the experiment.'),\n",
       " Document(metadata={'chapter_name': 'a broad overview ', 'chapter_number': 2, 'image_paths': 'images/page_34_img_0.png', 'page': '34'}, page_content='It doesn’t matter if you can’t come up with satisfactory answers to these questions. What is important is that you engage with the questions, and like our characters in these stories, try to answer them as best as you can for now, and refine them as you go along. This type of keen and sustained engagement will strengthen your intellectual muscles, and after a few months, you will discover that you have a stronger, faster, and more agile mind. Do make a note of your answers so that you can re-evaluate them once you’ve come to the end of the book! By the way, you may want to come up with a research plan to test the tulsi tea hypothesis; and also, to find an answer to the ‘sum-of-angles’ question that Samira raised.  One thing that you will notice about inquiry is that answering one question is bound to raise several other questions! And the process will lead to an endless string of questions, and that will keep you from ever getting bored.       Proving that something exists is easy'),\n",
       " Document(metadata={'chapter_name': 'a broad overview ', 'chapter_number': 2, 'image_paths': 'images/page_34_img_0.png', 'page': '34'}, page_content='Did the tulsi tea story include a discussion about justifying claims? Do either of these stories mention critical evaluation?  The tulsi tea story is titled ‘testing hypotheses’, but the spherical geometry story is titled ‘inquiry through reflection’. What exactly do you think is the contrast between them?    Have you come across the term ‘hypothesis testing’ in your school or college studies? If you have, try to connect the tulsi tea story to what you know about this.  Have you come across the idea of research projects in your school or college? If you have, what have you learnt about research through these stories.  What is the difference between the kind of math you are familiar with from your school and college, and the math introduced through the spherical geometry story in this chapter?   It doesn’t matter if you can’t come up with satisfactory answers to these questions. What is important is that you engage with the questions, and like our characters in these stories, try to')]"
      ]
     },
     "execution_count": 23,
     "metadata": {},
     "output_type": "execute_result"
    }
   ],
   "source": [
    "res"
   ]
  },
  {
   "cell_type": "code",
   "execution_count": 29,
   "metadata": {},
   "outputs": [],
   "source": [
    "def search_vectorstore(query, k=5):\n",
    "    # Extract metadata filters from the query\n",
    "    filters = extract_filters(query)\n",
    "    chroma_filter = build_chroma_filter(filters)\n",
    "    \n",
    "    # Perform the semantic search with the filter applied\n",
    "    results = vector_store.similarity_search(query, k=10, filter=chroma_filter)\n",
    "    \n",
    "    # Optional: Further manual filtering if needed\n",
    "    if filters:\n",
    "        filtered_results = []\n",
    "        for doc in results:\n",
    "            match = True\n",
    "            for key, value in filters.items():\n",
    "                if doc.metadata.get(key) != value:\n",
    "                    match = False\n",
    "                    break\n",
    "            if match:\n",
    "                filtered_results.append(doc)\n",
    "        results = filtered_results[:k]\n",
    "    else:\n",
    "        results = results[:k]\n",
    "    \n",
    "    return results"
   ]
  },
  {
   "cell_type": "code",
   "execution_count": 44,
   "metadata": {},
   "outputs": [],
   "source": [
    "user_query = \"Find content from Chapter 2\"\n"
   ]
  },
  {
   "cell_type": "code",
   "execution_count": 32,
   "metadata": {},
   "outputs": [],
   "source": [
    "    \n",
    "    # Search the vector store using the provided query\n",
    "search_results = search_vectorstore(user_query)"
   ]
  },
  {
   "cell_type": "code",
   "execution_count": 33,
   "metadata": {},
   "outputs": [
    {
     "data": {
      "text/plain": [
       "[Document(metadata={'chapter_name': 'a broad overview ', 'chapter_number': 2, 'image_paths': 'images/page_25_img_0.png', 'page': '25'}, page_content='CHAPTER 2: A BROAD OVERVIEW  /'),\n",
       " Document(metadata={'chapter_name': 'a broad overview ', 'chapter_number': 2, 'image_paths': 'images/page_29_img_0.png', 'page': '29'}, page_content='CHAPTER 2: A BROAD OVERVIEW  /'),\n",
       " Document(metadata={'chapter_name': 'a broad overview ', 'chapter_number': 2, 'image_paths': 'images/page_31_img_0.png', 'page': '31'}, page_content='CHAPTER 2: A BROAD OVERVIEW  /'),\n",
       " Document(metadata={'chapter_name': 'a broad overview ', 'chapter_number': 2, 'image_paths': 'images/page_33_img_0.png', 'page': '33'}, page_content='CHAPTER 2: A BROAD OVERVIEW  /'),\n",
       " Document(metadata={'chapter_name': 'a broad overview ', 'chapter_number': 2, 'image_paths': 'images/page_34_img_0.png', 'page': '34'}, page_content='It doesn’t matter if you can’t come up with satisfactory answers to these questions. What is important is that you engage with the questions, and like our characters in these stories, try to answer them as best as you can for now, and refine them as you go along. This type of keen and sustained engagement will strengthen your intellectual muscles, and after a few months, you will discover that you have a stronger, faster, and more agile mind. Do make a note of your answers so that you can re-evaluate them once you’ve come to the end of the book! By the way, you may want to come up with a research plan to test the tulsi tea hypothesis; and also, to find an answer to the ‘sum-of-angles’ question that Samira raised.  One thing that you will notice about inquiry is that answering one question is bound to raise several other questions! And the process will lead to an endless string of questions, and that will keep you from ever getting bored.       Proving that something exists is easy')]"
      ]
     },
     "execution_count": 33,
     "metadata": {},
     "output_type": "execute_result"
    }
   ],
   "source": [
    "search_results"
   ]
  },
  {
   "cell_type": "code",
   "execution_count": 48,
   "metadata": {},
   "outputs": [],
   "source": [
    "combined_context = f\"User query: {user_query}\\n\\nSearch results:\\n\""
   ]
  },
  {
   "cell_type": "code",
   "execution_count": 49,
   "metadata": {},
   "outputs": [
    {
     "data": {
      "text/plain": [
       "'User query: Find content from Chapter 2\\n\\nSearch results:\\n'"
      ]
     },
     "execution_count": 49,
     "metadata": {},
     "output_type": "execute_result"
    }
   ],
   "source": [
    "combined_context"
   ]
  },
  {
   "cell_type": "code",
   "execution_count": 50,
   "metadata": {},
   "outputs": [],
   "source": [
    "for doc in search_results:\n",
    "    combined_context += f\"Text: {doc.page_content}\\n\\n\""
   ]
  },
  {
   "cell_type": "code",
   "execution_count": 51,
   "metadata": {},
   "outputs": [
    {
     "data": {
      "text/plain": [
       "'User query: Find content from Chapter 2\\n\\nSearch results:\\nText: CHAPTER 2: A BROAD OVERVIEW  /\\n\\nText: CHAPTER 2: A BROAD OVERVIEW  /\\n\\nText: CHAPTER 2: A BROAD OVERVIEW  /\\n\\nText: CHAPTER 2: A BROAD OVERVIEW  /\\n\\nText: It doesn’t matter if you can’t come up with satisfactory answers to these questions. What is important is that you engage with the questions, and like our characters in these stories, try to answer them as best as you can for now, and refine them as you go along. This type of keen and sustained engagement will strengthen your intellectual muscles, and after a few months, you will discover that you have a stronger, faster, and more agile mind. Do make a note of your answers so that you can re-evaluate them once you’ve come to the end of the book! By the way, you may want to come up with a research plan to test the tulsi tea hypothesis; and also, to find an answer to the ‘sum-of-angles’ question that Samira raised.  One thing that you will notice about inquiry is that answering one question is bound to raise several other questions! And the process will lead to an endless string of questions, and that will keep you from ever getting bored.       Proving that something exists is easy\\n\\n'"
      ]
     },
     "execution_count": 51,
     "metadata": {},
     "output_type": "execute_result"
    }
   ],
   "source": [
    "combined_context"
   ]
  },
  {
   "cell_type": "code",
   "execution_count": 54,
   "metadata": {},
   "outputs": [],
   "source": [
    "images = []\n",
    "for doc in search_results:\n",
    "    \n",
    "    if doc.metadata.get('image_paths'):\n",
    "        images.append(doc.metadata.get('image_paths'))"
   ]
  },
  {
   "cell_type": "code",
   "execution_count": 55,
   "metadata": {},
   "outputs": [
    {
     "data": {
      "text/plain": [
       "['images/page_25_img_0.png',\n",
       " 'images/page_29_img_0.png',\n",
       " 'images/page_31_img_0.png',\n",
       " 'images/page_33_img_0.png',\n",
       " 'images/page_34_img_0.png']"
      ]
     },
     "execution_count": 55,
     "metadata": {},
     "output_type": "execute_result"
    }
   ],
   "source": [
    "images"
   ]
  },
  {
   "cell_type": "code",
   "execution_count": null,
   "metadata": {},
   "outputs": [],
   "source": []
  }
 ],
 "metadata": {
  "kernelspec": {
   "display_name": "learno_assignment",
   "language": "python",
   "name": "python3"
  },
  "language_info": {
   "codemirror_mode": {
    "name": "ipython",
    "version": 3
   },
   "file_extension": ".py",
   "mimetype": "text/x-python",
   "name": "python",
   "nbconvert_exporter": "python",
   "pygments_lexer": "ipython3",
   "version": "3.10.16"
  }
 },
 "nbformat": 4,
 "nbformat_minor": 2
}
