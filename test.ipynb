{
 "cells": [
  {
   "cell_type": "code",
   "execution_count": 43,
   "metadata": {},
   "outputs": [],
   "source": [
    "from trim_pdf import trim_pdf_before_page_one\n",
    "from pdf_processor import find_page_number\n"
   ]
  },
  {
   "cell_type": "code",
   "execution_count": 44,
   "metadata": {},
   "outputs": [],
   "source": [
    "input_path = 'inputPDF.pdf'"
   ]
  },
  {
   "cell_type": "code",
   "execution_count": 45,
   "metadata": {},
   "outputs": [],
   "source": [
    "output_path = 'trimmed_' + input_path"
   ]
  },
  {
   "cell_type": "code",
   "execution_count": 46,
   "metadata": {},
   "outputs": [
    {
     "name": "stdout",
     "output_type": "stream",
     "text": [
      "index is 5 and the page number is 2\n"
     ]
    }
   ],
   "source": [
    "page_idx = find_page_number(input_path)\n",
    "trim_pdf_before_page_one(input_path, output_path, page_one_index=page_idx)\n"
   ]
  },
  {
   "cell_type": "code",
   "execution_count": 5,
   "metadata": {},
   "outputs": [],
   "source": [
    "from langchain.document_loaders import PyPDFLoader"
   ]
  },
  {
   "cell_type": "code",
   "execution_count": 6,
   "metadata": {},
   "outputs": [],
   "source": [
    "# Load the PDF where each page is a document\n",
    "loader = PyPDFLoader(\"trimmed_inputPDF.pdf\")\n"
   ]
  },
  {
   "cell_type": "code",
   "execution_count": 7,
   "metadata": {},
   "outputs": [],
   "source": [
    "pages = loader.load()"
   ]
  },
  {
   "cell_type": "code",
   "execution_count": 8,
   "metadata": {},
   "outputs": [],
   "source": [
    "from langchain.text_splitter import RecursiveCharacterTextSplitter\n"
   ]
  },
  {
   "cell_type": "code",
   "execution_count": 9,
   "metadata": {},
   "outputs": [],
   "source": [
    "text_splitter = RecursiveCharacterTextSplitter(chunk_size=1000, chunk_overlap=200)\n",
    "chunks = []\n",
    "metadatas = []\n",
    "for page in pages:\n",
    "    page_chunks = text_splitter.split_documents([page])\n",
    "    for chunk in page_chunks:\n",
    "        chunks.append(chunk)\n",
    "        # Propagate page number metadata from the parent page\n",
    "        metadatas.append({\"page\": page.metadata[\"page\"]})"
   ]
  },
  {
   "cell_type": "code",
   "execution_count": 10,
   "metadata": {},
   "outputs": [],
   "source": [
    "from langchain.embeddings import HuggingFaceEmbeddings\n"
   ]
  },
  {
   "cell_type": "code",
   "execution_count": 11,
   "metadata": {},
   "outputs": [],
   "source": [
    "embeddings = HuggingFaceEmbeddings(model_name=\"sentence-transformers/all-MiniLM-L6-v2\")\n"
   ]
  },
  {
   "cell_type": "code",
   "execution_count": 14,
   "metadata": {},
   "outputs": [],
   "source": [
    "from langchain.vectorstores import Chroma\n",
    "from langchain.docstore.document import Document\n"
   ]
  },
  {
   "cell_type": "code",
   "execution_count": 15,
   "metadata": {},
   "outputs": [],
   "source": [
    "documents = []\n",
    "for i, chunk in enumerate(chunks, start=1):\n",
    "    # Assume chunk.page_content is the text content\n",
    "    documents.append(Document(page_content=chunk.page_content, metadata={\"page\": i}))\n"
   ]
  },
  {
   "cell_type": "code",
   "execution_count": 19,
   "metadata": {},
   "outputs": [],
   "source": [
    "vector_store = Chroma.from_documents(\n",
    "    documents=documents,\n",
    "    embedding=embeddings,\n",
    "    collection_name=\"book_by_page\",\n",
    "    persist_directory=\"embedding\"\n",
    ")"
   ]
  },
  {
   "cell_type": "code",
   "execution_count": 18,
   "metadata": {},
   "outputs": [
    {
     "name": "stderr",
     "output_type": "stream",
     "text": [
      "/tmp/ipykernel_841491/2754909744.py:1: LangChainDeprecationWarning: Since Chroma 0.4.x the manual persistence method is no longer supported as docs are automatically persisted.\n",
      "  vector_store.persist()\n"
     ]
    }
   ],
   "source": [
    "vector_store.persist()\n"
   ]
  },
  {
   "cell_type": "code",
   "execution_count": 24,
   "metadata": {},
   "outputs": [],
   "source": [
    "query = \"explain chapter 3\"\n",
    "# Use a filter to get documents with page 51\n",
    "filtered_chunks = vector_store.similarity_search(\n",
    "    query,\n",
    "    k=5,\n",
    "    filter={\"page\": 51}\n",
    ")"
   ]
  },
  {
   "cell_type": "code",
   "execution_count": 23,
   "metadata": {},
   "outputs": [
    {
     "data": {
      "text/plain": [
       "[Document(metadata={'page': 51}, page_content='together, we get a logical contradiction, right? And we can’t allow that. This means that we have to reject one or both statements.  Anu: Exactly. You reject statement 2, and I reject statement 1. So we arrive at different conclusions. We are both rational, Neel, but only one of us supports the true statement.  Neel: And who’s that?  Anu: Me, of course! (laughs) THINK & DO #3  What reasons can you think of to justify each of these positions?   1. White crows don’t exist.   2. The white bird Anu has been seeing every morning is a crow. The next morning, Anu saw the white bird again and hurried to wake Neel up. Neel dragged himself sleepily to the balcony and stared at the bird Anu was pointing at. Neel: I do see a white bird that looks just like a crow. But, something tells me it’s not a crow.  Anu: You need to do better than that, Neel. Give me some reason for that judgment.  Neel: You mean that I have to give you a rational justification for my judgment?  Anu: Exactly. How do you')]"
      ]
     },
     "execution_count": 23,
     "metadata": {},
     "output_type": "execute_result"
    }
   ],
   "source": [
    "filtered_chunks"
   ]
  },
  {
   "cell_type": "code",
   "execution_count": 28,
   "metadata": {},
   "outputs": [],
   "source": [
    "from PyPDF2 import PdfReader\n",
    "import re"
   ]
  },
  {
   "cell_type": "code",
   "execution_count": 29,
   "metadata": {},
   "outputs": [
    {
     "data": {
      "text/plain": [
       "[]"
      ]
     },
     "execution_count": 29,
     "metadata": {},
     "output_type": "execute_result"
    }
   ],
   "source": [
    "reader = PdfReader('trimmed_inputPDF.pdf')\n",
    "reader.outline"
   ]
  },
  {
   "cell_type": "code",
   "execution_count": 30,
   "metadata": {},
   "outputs": [],
   "source": [
    "chapters = []\n",
    "for page_num in range(len(reader.pages)):\n",
    "    page = reader.pages[page_num]\n",
    "    text = page.extract_text()\n",
    "    # Adjust regex pattern to match your chapter headings\n",
    "    match = re.search(r'^(Chapter \\d+:|CHAPTER \\d+)', text, re.MULTILINE)\n",
    "    if match:\n",
    "        chapters.append({\n",
    "            \"title\": match.group(0).strip(),\n",
    "            \"start_page\": page_num + 1  # 1-based\n",
    "        })"
   ]
  },
  {
   "cell_type": "code",
   "execution_count": 34,
   "metadata": {},
   "outputs": [],
   "source": [
    "for page_num, page in enumerate(reader.pages):\n",
    "        text = page.extract_text().lower()\n",
    "        if \"index\" in text or \"contents\" in text:\n",
    "            index_page = page_num + 1  # 1-based numbering\n",
    "            index_text = page.extract_text()\n",
    "            break"
   ]
  },
  {
   "cell_type": "code",
   "execution_count": 35,
   "metadata": {},
   "outputs": [
    {
     "data": {
      "text/plain": [
       "3"
      ]
     },
     "execution_count": 35,
     "metadata": {},
     "output_type": "execute_result"
    }
   ],
   "source": [
    "index_page"
   ]
  },
  {
   "cell_type": "code",
   "execution_count": 38,
   "metadata": {},
   "outputs": [
    {
     "data": {
      "text/plain": [
       "'     \\n 3 Foundations  of Knowledge and Inquiry Across Disciplines  TABLE OF CONTENTS          ACKNOWLEDGEMENTS …………………………………………… 4  TO THE LEARNER ……………………………………………………… 5  Part 1: INTRODUCTION  ……………………………………… 7  Chapter 1 What this Book is About  …………………………… 9  Chapter 2 A Broad Overview ……………………………………… 23  Chapter 3 Ways of Knowing ……………………………………… 35  Part 1: Looking Back ………………………………………………… 47  Part 2: LOGIC AND REASONING IN INQUIRY  ……………… 53  Chapter 4 Introduction to Reasoning …………………………… 55  Chapter 5 Judging the Truth of Assertions ………………………  69  Chapter 6 Language, Logic, and Truth in Academic Inquiry … 79  Part 2: Looking Back ………………………………………………… 89  Part 3: MORE TOOLS OF INQUIRY …………………………… 91  Chapter 7  Classifying ………………………………………………… 93  Chapter 8 Generalising …………………………………………… 113  Chapter 9  Defining ………………………………………………… 129  Part 3: Looking Back ………………………………………………… 141  Part 4: INTEGRATING THE PIECES …………………………… 143  Chapter 10 Justifying ………………………………………………… 145  Chapter 11 Critical Reading and Critical Thinking  ……………… 169   Chapter 12 Consolidation …………………………………………… 189  GLOSSARY ………………………………………………………………… 203    '"
      ]
     },
     "execution_count": 38,
     "metadata": {},
     "output_type": "execute_result"
    }
   ],
   "source": [
    "index_text"
   ]
  },
  {
   "cell_type": "code",
   "execution_count": 39,
   "metadata": {},
   "outputs": [],
   "source": [
    "lines = index_text.split('\\n')\n"
   ]
  },
  {
   "cell_type": "code",
   "execution_count": 40,
   "metadata": {},
   "outputs": [
    {
     "data": {
      "text/plain": [
       "['     ',\n",
       " ' 3 Foundations  of Knowledge and Inquiry Across Disciplines  TABLE OF CONTENTS          ACKNOWLEDGEMENTS …………………………………………… 4  TO THE LEARNER ……………………………………………………… 5  Part 1: INTRODUCTION  ……………………………………… 7  Chapter 1 What this Book is About  …………………………… 9  Chapter 2 A Broad Overview ……………………………………… 23  Chapter 3 Ways of Knowing ……………………………………… 35  Part 1: Looking Back ………………………………………………… 47  Part 2: LOGIC AND REASONING IN INQUIRY  ……………… 53  Chapter 4 Introduction to Reasoning …………………………… 55  Chapter 5 Judging the Truth of Assertions ………………………  69  Chapter 6 Language, Logic, and Truth in Academic Inquiry … 79  Part 2: Looking Back ………………………………………………… 89  Part 3: MORE TOOLS OF INQUIRY …………………………… 91  Chapter 7  Classifying ………………………………………………… 93  Chapter 8 Generalising …………………………………………… 113  Chapter 9  Defining ………………………………………………… 129  Part 3: Looking Back ………………………………………………… 141  Part 4: INTEGRATING THE PIECES …………………………… 143  Chapter 10 Justifying ………………………………………………… 145  Chapter 11 Critical Reading and Critical Thinking  ……………… 169   Chapter 12 Consolidation …………………………………………… 189  GLOSSARY ………………………………………………………………… 203    ']"
      ]
     },
     "execution_count": 40,
     "metadata": {},
     "output_type": "execute_result"
    }
   ],
   "source": [
    "lines"
   ]
  },
  {
   "cell_type": "code",
   "execution_count": 41,
   "metadata": {},
   "outputs": [],
   "source": [
    "chapter_pattern = r'Chapter (\\d+).*?(\\d+)$'\n",
    "    \n",
    "chapters = []\n",
    "\n",
    "for line in lines:\n",
    "    line = line.strip()\n",
    "    match = re.search(chapter_pattern, line)\n",
    "    if match:\n",
    "        chapter_num = int(match.group(1))\n",
    "        page_num = int(match.group(2))\n",
    "        chapters.append((chapter_num, page_num))"
   ]
  },
  {
   "cell_type": "code",
   "execution_count": 42,
   "metadata": {},
   "outputs": [
    {
     "data": {
      "text/plain": [
       "[(1, 203)]"
      ]
     },
     "execution_count": 42,
     "metadata": {},
     "output_type": "execute_result"
    }
   ],
   "source": [
    "chapters"
   ]
  },
  {
   "cell_type": "code",
   "execution_count": 43,
   "metadata": {},
   "outputs": [],
   "source": [
    "sections = []\n",
    "for line in lines:\n",
    "    # Skip empty lines\n",
    "    line = line.strip()\n",
    "    if not line:\n",
    "        continue\n",
    "        \n",
    "    # Look for the last sequence of digits in the line\n",
    "    parts = line.split('…')\n",
    "    if len(parts) < 2:\n",
    "        continue\n",
    "        \n",
    "    # Get the section name and page number\n",
    "    section_name = parts[0].strip()\n",
    "    # Extract the last number from the right part\n",
    "    page_number = ''.join(filter(str.isdigit, parts[-1].strip()))\n",
    "    \n",
    "    if page_number and section_name:\n",
    "        sections.append((section_name, int(page_number)))"
   ]
  },
  {
   "cell_type": "code",
   "execution_count": 44,
   "metadata": {},
   "outputs": [
    {
     "data": {
      "text/plain": [
       "[('3 Foundations  of Knowledge and Inquiry Across Disciplines  TABLE OF CONTENTS          ACKNOWLEDGEMENTS',\n",
       "  203)]"
      ]
     },
     "execution_count": 44,
     "metadata": {},
     "output_type": "execute_result"
    }
   ],
   "source": [
    "sections"
   ]
  },
  {
   "cell_type": "code",
   "execution_count": 45,
   "metadata": {},
   "outputs": [],
   "source": [
    "lines = [line.strip() for line in text.split('\\n') if line.strip()]\n"
   ]
  },
  {
   "cell_type": "code",
   "execution_count": 46,
   "metadata": {},
   "outputs": [
    {
     "data": {
      "text/plain": [
       "['3 foundations  of knowledge and inquiry across disciplines  table of contents          acknowledgements …………………………………………… 4  to the learner ……………………………………………………… 5  part 1: introduction  ……………………………………… 7  chapter 1 what this book is about  …………………………… 9  chapter 2 a broad overview ……………………………………… 23  chapter 3 ways of knowing ……………………………………… 35  part 1: looking back ………………………………………………… 47  part 2: logic and reasoning in inquiry  ……………… 53  chapter 4 introduction to reasoning …………………………… 55  chapter 5 judging the truth of assertions ………………………  69  chapter 6 language, logic, and truth in academic inquiry … 79  part 2: looking back ………………………………………………… 89  part 3: more tools of inquiry …………………………… 91  chapter 7  classifying ………………………………………………… 93  chapter 8 generalising …………………………………………… 113  chapter 9  defining ………………………………………………… 129  part 3: looking back ………………………………………………… 141  part 4: integrating the pieces …………………………… 143  chapter 10 justifying ………………………………………………… 145  chapter 11 critical reading and critical thinking  ……………… 169   chapter 12 consolidation …………………………………………… 189  glossary ………………………………………………………………… 203']"
      ]
     },
     "execution_count": 46,
     "metadata": {},
     "output_type": "execute_result"
    }
   ],
   "source": [
    "lines"
   ]
  },
  {
   "cell_type": "code",
   "execution_count": 47,
   "metadata": {},
   "outputs": [],
   "source": [
    "full_text = ' '.join(lines)\n"
   ]
  },
  {
   "cell_type": "code",
   "execution_count": 48,
   "metadata": {},
   "outputs": [
    {
     "data": {
      "text/plain": [
       "'3 foundations  of knowledge and inquiry across disciplines  table of contents          acknowledgements …………………………………………… 4  to the learner ……………………………………………………… 5  part 1: introduction  ……………………………………… 7  chapter 1 what this book is about  …………………………… 9  chapter 2 a broad overview ……………………………………… 23  chapter 3 ways of knowing ……………………………………… 35  part 1: looking back ………………………………………………… 47  part 2: logic and reasoning in inquiry  ……………… 53  chapter 4 introduction to reasoning …………………………… 55  chapter 5 judging the truth of assertions ………………………  69  chapter 6 language, logic, and truth in academic inquiry … 79  part 2: looking back ………………………………………………… 89  part 3: more tools of inquiry …………………………… 91  chapter 7  classifying ………………………………………………… 93  chapter 8 generalising …………………………………………… 113  chapter 9  defining ………………………………………………… 129  part 3: looking back ………………………………………………… 141  part 4: integrating the pieces …………………………… 143  chapter 10 justifying ………………………………………………… 145  chapter 11 critical reading and critical thinking  ……………… 169   chapter 12 consolidation …………………………………………… 189  glossary ………………………………………………………………… 203'"
      ]
     },
     "execution_count": 48,
     "metadata": {},
     "output_type": "execute_result"
    }
   ],
   "source": [
    "full_text"
   ]
  },
  {
   "cell_type": "code",
   "execution_count": 49,
   "metadata": {},
   "outputs": [],
   "source": [
    "matches = re.findall(r'([^0-9…]+?)(?:…|\\s)+(\\d+)(?=\\s|$)', full_text)\n"
   ]
  },
  {
   "cell_type": "code",
   "execution_count": 50,
   "metadata": {},
   "outputs": [
    {
     "data": {
      "text/plain": [
       "[(' foundations  of knowledge and inquiry across disciplines  table of contents          acknowledgements',\n",
       "  '4'),\n",
       " ('  to the learner', '5'),\n",
       " (': introduction', '7'),\n",
       " ('  chapter', '1'),\n",
       " (' what this book is about', '9'),\n",
       " ('  chapter', '2'),\n",
       " (' a broad overview', '23'),\n",
       " ('  chapter', '3'),\n",
       " (' ways of knowing', '35'),\n",
       " (': looking back', '47'),\n",
       " (': logic and reasoning in inquiry', '53'),\n",
       " ('  chapter', '4'),\n",
       " (' introduction to reasoning', '55'),\n",
       " ('  chapter', '5'),\n",
       " (' judging the truth of assertions', '69'),\n",
       " ('  chapter', '6'),\n",
       " (' language, logic, and truth in academic inquiry', '79'),\n",
       " (': looking back', '89'),\n",
       " (': more tools of inquiry', '91'),\n",
       " ('  chapter', '7'),\n",
       " ('  classifying', '93'),\n",
       " ('  chapter', '8'),\n",
       " (' generalising', '113'),\n",
       " ('  chapter', '9'),\n",
       " ('  defining', '129'),\n",
       " (': looking back', '141'),\n",
       " (': integrating the pieces', '143'),\n",
       " ('  chapter', '10'),\n",
       " (' justifying', '145'),\n",
       " ('  chapter', '11'),\n",
       " (' critical reading and critical thinking', '169'),\n",
       " ('   chapter', '12'),\n",
       " (' consolidation', '189'),\n",
       " ('  glossary', '203')]"
      ]
     },
     "execution_count": 50,
     "metadata": {},
     "output_type": "execute_result"
    }
   ],
   "source": [
    "matches"
   ]
  },
  {
   "cell_type": "code",
   "execution_count": 51,
   "metadata": {},
   "outputs": [],
   "source": [
    "sections = []\n",
    "for section_name, page_number in matches:\n",
    "    sections.append((section_name.strip(), int(page_number)))\n",
    "    "
   ]
  },
  {
   "cell_type": "code",
   "execution_count": 52,
   "metadata": {},
   "outputs": [
    {
     "data": {
      "text/plain": [
       "[('foundations  of knowledge and inquiry across disciplines  table of contents          acknowledgements',\n",
       "  4),\n",
       " ('to the learner', 5),\n",
       " (': introduction', 7),\n",
       " ('chapter', 1),\n",
       " ('what this book is about', 9),\n",
       " ('chapter', 2),\n",
       " ('a broad overview', 23),\n",
       " ('chapter', 3),\n",
       " ('ways of knowing', 35),\n",
       " (': looking back', 47),\n",
       " (': logic and reasoning in inquiry', 53),\n",
       " ('chapter', 4),\n",
       " ('introduction to reasoning', 55),\n",
       " ('chapter', 5),\n",
       " ('judging the truth of assertions', 69),\n",
       " ('chapter', 6),\n",
       " ('language, logic, and truth in academic inquiry', 79),\n",
       " (': looking back', 89),\n",
       " (': more tools of inquiry', 91),\n",
       " ('chapter', 7),\n",
       " ('classifying', 93),\n",
       " ('chapter', 8),\n",
       " ('generalising', 113),\n",
       " ('chapter', 9),\n",
       " ('defining', 129),\n",
       " (': looking back', 141),\n",
       " (': integrating the pieces', 143),\n",
       " ('chapter', 10),\n",
       " ('justifying', 145),\n",
       " ('chapter', 11),\n",
       " ('critical reading and critical thinking', 169),\n",
       " ('chapter', 12),\n",
       " ('consolidation', 189),\n",
       " ('glossary', 203)]"
      ]
     },
     "execution_count": 52,
     "metadata": {},
     "output_type": "execute_result"
    }
   ],
   "source": [
    "sections"
   ]
  },
  {
   "cell_type": "code",
   "execution_count": 57,
   "metadata": {},
   "outputs": [],
   "source": [
    "pattern = r'Chapter (\\d+)\\s+([^…]+?)(?:…+|\\s+)(\\d+)'\n",
    "matches = re.findall(pattern, full_text)\n"
   ]
  },
  {
   "cell_type": "code",
   "execution_count": 58,
   "metadata": {},
   "outputs": [
    {
     "data": {
      "text/plain": [
       "[]"
      ]
     },
     "execution_count": 58,
     "metadata": {},
     "output_type": "execute_result"
    }
   ],
   "source": [
    "matches"
   ]
  },
  {
   "cell_type": "code",
   "execution_count": 59,
   "metadata": {},
   "outputs": [],
   "source": [
    "lines = [line.strip() for line in re.split(r'\\s{2,}', full_text) if line.strip()]\n"
   ]
  },
  {
   "cell_type": "code",
   "execution_count": 60,
   "metadata": {},
   "outputs": [
    {
     "data": {
      "text/plain": [
       "['3 foundations',\n",
       " 'of knowledge and inquiry across disciplines',\n",
       " 'table of contents',\n",
       " 'acknowledgements …………………………………………… 4',\n",
       " 'to the learner ……………………………………………………… 5',\n",
       " 'part 1: introduction',\n",
       " '……………………………………… 7',\n",
       " 'chapter 1 what this book is about',\n",
       " '…………………………… 9',\n",
       " 'chapter 2 a broad overview ……………………………………… 23',\n",
       " 'chapter 3 ways of knowing ……………………………………… 35',\n",
       " 'part 1: looking back ………………………………………………… 47',\n",
       " 'part 2: logic and reasoning in inquiry',\n",
       " '……………… 53',\n",
       " 'chapter 4 introduction to reasoning …………………………… 55',\n",
       " 'chapter 5 judging the truth of assertions ………………………',\n",
       " '69',\n",
       " 'chapter 6 language, logic, and truth in academic inquiry … 79',\n",
       " 'part 2: looking back ………………………………………………… 89',\n",
       " 'part 3: more tools of inquiry …………………………… 91',\n",
       " 'chapter 7',\n",
       " 'classifying ………………………………………………… 93',\n",
       " 'chapter 8 generalising …………………………………………… 113',\n",
       " 'chapter 9',\n",
       " 'defining ………………………………………………… 129',\n",
       " 'part 3: looking back ………………………………………………… 141',\n",
       " 'part 4: integrating the pieces …………………………… 143',\n",
       " 'chapter 10 justifying ………………………………………………… 145',\n",
       " 'chapter 11 critical reading and critical thinking',\n",
       " '……………… 169',\n",
       " 'chapter 12 consolidation …………………………………………… 189',\n",
       " 'glossary ………………………………………………………………… 203']"
      ]
     },
     "execution_count": 60,
     "metadata": {},
     "output_type": "execute_result"
    }
   ],
   "source": [
    "lines"
   ]
  },
  {
   "cell_type": "code",
   "execution_count": 61,
   "metadata": {},
   "outputs": [],
   "source": [
    "cleaned_text = re.sub(r'[^a-zA-Z0-9 ]', '', full_text)"
   ]
  },
  {
   "cell_type": "code",
   "execution_count": 62,
   "metadata": {},
   "outputs": [
    {
     "data": {
      "text/plain": [
       "'3 foundations  of knowledge and inquiry across disciplines  table of contents          acknowledgements  4  to the learner  5  part 1 introduction   7  chapter 1 what this book is about   9  chapter 2 a broad overview  23  chapter 3 ways of knowing  35  part 1 looking back  47  part 2 logic and reasoning in inquiry   53  chapter 4 introduction to reasoning  55  chapter 5 judging the truth of assertions   69  chapter 6 language logic and truth in academic inquiry  79  part 2 looking back  89  part 3 more tools of inquiry  91  chapter 7  classifying  93  chapter 8 generalising  113  chapter 9  defining  129  part 3 looking back  141  part 4 integrating the pieces  143  chapter 10 justifying  145  chapter 11 critical reading and critical thinking   169   chapter 12 consolidation  189  glossary  203'"
      ]
     },
     "execution_count": 62,
     "metadata": {},
     "output_type": "execute_result"
    }
   ],
   "source": [
    "cleaned_text"
   ]
  },
  {
   "cell_type": "code",
   "execution_count": 67,
   "metadata": {},
   "outputs": [],
   "source": [
    "pattern = r'chapter (\\d+)\\s+([a-zA-Z\\s]+)\\s+(\\d+)'\n",
    "matches = re.findall(pattern, cleaned_text)"
   ]
  },
  {
   "cell_type": "code",
   "execution_count": 68,
   "metadata": {},
   "outputs": [
    {
     "data": {
      "text/plain": [
       "[('1', 'what this book is about  ', '9'),\n",
       " ('2', 'a broad overview ', '23'),\n",
       " ('3', 'ways of knowing ', '35'),\n",
       " ('4', 'introduction to reasoning ', '55'),\n",
       " ('5', 'judging the truth of assertions  ', '69'),\n",
       " ('6', 'language logic and truth in academic inquiry ', '79'),\n",
       " ('7', 'classifying ', '93'),\n",
       " ('8', 'generalising ', '113'),\n",
       " ('9', 'defining ', '129'),\n",
       " ('10', 'justifying ', '145'),\n",
       " ('11', 'critical reading and critical thinking  ', '169'),\n",
       " ('12', 'consolidation ', '189')]"
      ]
     },
     "execution_count": 68,
     "metadata": {},
     "output_type": "execute_result"
    }
   ],
   "source": [
    "matches"
   ]
  },
  {
   "cell_type": "code",
   "execution_count": null,
   "metadata": {},
   "outputs": [],
   "source": []
  }
 ],
 "metadata": {
  "kernelspec": {
   "display_name": "learno_assignment",
   "language": "python",
   "name": "python3"
  },
  "language_info": {
   "codemirror_mode": {
    "name": "ipython",
    "version": 3
   },
   "file_extension": ".py",
   "mimetype": "text/x-python",
   "name": "python",
   "nbconvert_exporter": "python",
   "pygments_lexer": "ipython3",
   "version": "3.10.16"
  }
 },
 "nbformat": 4,
 "nbformat_minor": 2
}
