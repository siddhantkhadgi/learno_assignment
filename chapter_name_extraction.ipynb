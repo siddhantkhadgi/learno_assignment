{
 "cells": [
  {
   "cell_type": "code",
   "execution_count": 1,
   "metadata": {},
   "outputs": [],
   "source": [
    "from PyPDF2 import PdfReader\n",
    "import re"
   ]
  },
  {
   "cell_type": "code",
   "execution_count": 2,
   "metadata": {},
   "outputs": [],
   "source": [
    "reader = PdfReader('trimmed_inputPDF.pdf')"
   ]
  },
  {
   "cell_type": "code",
   "execution_count": 3,
   "metadata": {},
   "outputs": [],
   "source": [
    "# find index page\n",
    "for page_num, page in enumerate(reader.pages):\n",
    "    text = page.extract_text().lower()\n",
    "    if \"index\" in text or \"contents\" in text:\n",
    "        index_page = page_num + 1  # 1-based numbering\n",
    "        index_text = page.extract_text()\n",
    "        break"
   ]
  },
  {
   "cell_type": "code",
   "execution_count": 4,
   "metadata": {},
   "outputs": [],
   "source": [
    "# cleaning text\n",
    "lines = index_text.split('\\n')\n",
    "lines = [line.strip() for line in text.split('\\n') if line.strip()]\n",
    "full_text = ' '.join(lines)\n",
    "cleaned_text = re.sub(r'[^a-zA-Z0-9 ]', '', full_text)"
   ]
  },
  {
   "cell_type": "code",
   "execution_count": 5,
   "metadata": {},
   "outputs": [],
   "source": [
    "# pattern definition for finding chapter name, chapter number and page number\n",
    "pattern = r'chapter (\\d+)\\s+([a-zA-Z\\s]+)\\s+(\\d+)'"
   ]
  },
  {
   "cell_type": "code",
   "execution_count": 6,
   "metadata": {},
   "outputs": [],
   "source": [
    "matches = re.findall(pattern, cleaned_text)"
   ]
  },
  {
   "cell_type": "code",
   "execution_count": 7,
   "metadata": {},
   "outputs": [
    {
     "data": {
      "text/plain": [
       "[('1', 'what this book is about  ', '9'),\n",
       " ('2', 'a broad overview ', '23'),\n",
       " ('3', 'ways of knowing ', '35'),\n",
       " ('4', 'introduction to reasoning ', '55'),\n",
       " ('5', 'judging the truth of assertions  ', '69'),\n",
       " ('6', 'language logic and truth in academic inquiry ', '79'),\n",
       " ('7', 'classifying ', '93'),\n",
       " ('8', 'generalising ', '113'),\n",
       " ('9', 'defining ', '129'),\n",
       " ('10', 'justifying ', '145'),\n",
       " ('11', 'critical reading and critical thinking  ', '169'),\n",
       " ('12', 'consolidation ', '189')]"
      ]
     },
     "execution_count": 7,
     "metadata": {},
     "output_type": "execute_result"
    }
   ],
   "source": [
    "matches"
   ]
  },
  {
   "cell_type": "code",
   "execution_count": null,
   "metadata": {},
   "outputs": [],
   "source": []
  }
 ],
 "metadata": {
  "kernelspec": {
   "display_name": "learno_assignment",
   "language": "python",
   "name": "python3"
  },
  "language_info": {
   "codemirror_mode": {
    "name": "ipython",
    "version": 3
   },
   "file_extension": ".py",
   "mimetype": "text/x-python",
   "name": "python",
   "nbconvert_exporter": "python",
   "pygments_lexer": "ipython3",
   "version": "3.10.16"
  }
 },
 "nbformat": 4,
 "nbformat_minor": 2
}
